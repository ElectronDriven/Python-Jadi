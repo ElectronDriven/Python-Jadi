{
 "cells": [
  {
   "cell_type": "code",
   "execution_count": 12,
   "id": "13a02aba",
   "metadata": {},
   "outputs": [
    {
     "data": {
      "text/plain": [
       "[85,\n",
       " 85,\n",
       " 105,\n",
       " 92,\n",
       " 104,\n",
       " 95,\n",
       " 94,\n",
       " 92,\n",
       " 102,\n",
       " 113,\n",
       " 125,\n",
       " 127,\n",
       " 101,\n",
       " 95,\n",
       " 107,\n",
       " 98,\n",
       " 107,\n",
       " 112,\n",
       " 102,\n",
       " 90,\n",
       " 80,\n",
       " 111,\n",
       " 85,\n",
       " 104,\n",
       " 101,\n",
       " 103,\n",
       " 71,\n",
       " 98,\n",
       " 96,\n",
       " 95,\n",
       " 109,\n",
       " 78,\n",
       " 85,\n",
       " 112,\n",
       " 104,\n",
       " 101,\n",
       " 90,\n",
       " 92,\n",
       " 100,\n",
       " 97,\n",
       " 104,\n",
       " 101,\n",
       " 109,\n",
       " 89,\n",
       " 92,\n",
       " 95,\n",
       " 126,\n",
       " 111,\n",
       " 106,\n",
       " 124]"
      ]
     },
     "execution_count": 12,
     "metadata": {},
     "output_type": "execute_result"
    }
   ],
   "source": [
    "import random\n",
    "random.seed()\n",
    "\n",
    "#for i in range(1, 10):\n",
    "#    print (random.randrange(0, 9))\n",
    "#return 0\n",
    "\n",
    "\n",
    "people = []\n",
    "for i in range (0, 50):\n",
    "    people.append(100)\n",
    "    \n",
    "#person1 = 40\n",
    "#person2 = 32\n",
    "\n",
    "for beshkan in range (0, 100):\n",
    "    for person1 in range (0, 50):\n",
    "        person2 = random.randrange(0, 50)\n",
    "        \n",
    "        while people[person2] == 0:\n",
    "            person2 = random.randrange(0, 50)\n",
    "        \n",
    "#        if people[person1] == 0:\n",
    "#            continue\n",
    "        \n",
    "        if people[person1] != 0:            \n",
    "            #print (person1, person2)\n",
    "            people[person1] = people[person1] - 1\n",
    "            people[person2] = people[person2] + 1\n",
    "    \n",
    "people\n"
   ]
  },
  {
   "cell_type": "code",
   "execution_count": 3,
   "id": "b8af534b",
   "metadata": {},
   "outputs": [],
   "source": [
    "\n"
   ]
  },
  {
   "cell_type": "code",
   "execution_count": null,
   "id": "85f1066e",
   "metadata": {},
   "outputs": [],
   "source": [
    "person"
   ]
  }
 ],
 "metadata": {
  "kernelspec": {
   "display_name": "Python 3 (ipykernel)",
   "language": "python",
   "name": "python3"
  },
  "language_info": {
   "codemirror_mode": {
    "name": "ipython",
    "version": 3
   },
   "file_extension": ".py",
   "mimetype": "text/x-python",
   "name": "python",
   "nbconvert_exporter": "python",
   "pygments_lexer": "ipython3",
   "version": "3.10.7"
  }
 },
 "nbformat": 4,
 "nbformat_minor": 5
}
