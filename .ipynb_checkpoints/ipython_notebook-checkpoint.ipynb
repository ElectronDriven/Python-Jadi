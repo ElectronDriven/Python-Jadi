{
 "cells": [
  {
   "cell_type": "markdown",
   "id": "c3daf120",
   "metadata": {},
   "source": [
    "##Calculating my age\n",
    "this program calculates my age"
   ]
  },
  {
   "cell_type": "code",
   "execution_count": 4,
   "id": "62c1a929",
   "metadata": {},
   "outputs": [
    {
     "name": "stdout",
     "output_type": "stream",
     "text": [
      "41\n"
     ]
    }
   ],
   "source": [
    "my_age=41\n",
    "print(my_age)\n"
   ]
  },
  {
   "cell_type": "code",
   "execution_count": 5,
   "id": "38bce5fc",
   "metadata": {},
   "outputs": [],
   "source": [
    "my_age = my_age + 1"
   ]
  },
  {
   "cell_type": "code",
   "execution_count": 6,
   "id": "d73a2b87",
   "metadata": {},
   "outputs": [
    {
     "data": {
      "text/plain": [
       "42"
      ]
     },
     "execution_count": 6,
     "metadata": {},
     "output_type": "execute_result"
    }
   ],
   "source": [
    "my_age"
   ]
  },
  {
   "cell_type": "code",
   "execution_count": null,
   "id": "49ddb3c8",
   "metadata": {},
   "outputs": [],
   "source": []
  }
 ],
 "metadata": {
  "kernelspec": {
   "display_name": "Python 3 (ipykernel)",
   "language": "python",
   "name": "python3"
  },
  "language_info": {
   "codemirror_mode": {
    "name": "ipython",
    "version": 3
   },
   "file_extension": ".py",
   "mimetype": "text/x-python",
   "name": "python",
   "nbconvert_exporter": "python",
   "pygments_lexer": "ipython3",
   "version": "3.10.7"
  }
 },
 "nbformat": 4,
 "nbformat_minor": 5
}
