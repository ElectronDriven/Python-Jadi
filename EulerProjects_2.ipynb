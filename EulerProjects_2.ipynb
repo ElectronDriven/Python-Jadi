{
 "cells": [
  {
   "cell_type": "code",
   "execution_count": 1,
   "id": "cf28a634",
   "metadata": {},
   "outputs": [],
   "source": [
    "def isEven(n):\n",
    "    if n % 2 == 0:\n",
    "        return True\n",
    "    else:\n",
    "        return False"
   ]
  },
  {
   "cell_type": "code",
   "execution_count": 2,
   "id": "bccf6986",
   "metadata": {},
   "outputs": [
    {
     "data": {
      "text/plain": [
       "True"
      ]
     },
     "execution_count": 2,
     "metadata": {},
     "output_type": "execute_result"
    }
   ],
   "source": [
    "isEven(100)"
   ]
  },
  {
   "cell_type": "code",
   "execution_count": 3,
   "id": "fb3ef3df",
   "metadata": {},
   "outputs": [
    {
     "data": {
      "text/plain": [
       "False"
      ]
     },
     "execution_count": 3,
     "metadata": {},
     "output_type": "execute_result"
    }
   ],
   "source": [
    "isEven(11)"
   ]
  },
  {
   "cell_type": "code",
   "execution_count": 8,
   "id": "ca5c0862",
   "metadata": {},
   "outputs": [
    {
     "name": "stdout",
     "output_type": "stream",
     "text": [
      "my first number is:  1\n",
      "my first number is:  2\n",
      "oh it is Even\n",
      "now the sum is:  2\n",
      "my first number is:  3\n",
      "my first number is:  5\n",
      "my first number is:  8\n",
      "oh it is Even\n",
      "now the sum is:  10\n",
      "my first number is:  13\n",
      "my first number is:  21\n",
      "my first number is:  34\n",
      "oh it is Even\n",
      "now the sum is:  44\n",
      "my first number is:  55\n",
      "my first number is:  89\n",
      "my first number is:  144\n",
      "oh it is Even\n",
      "now the sum is:  188\n",
      "my first number is:  233\n",
      "my first number is:  377\n",
      "my first number is:  610\n",
      "oh it is Even\n",
      "now the sum is:  798\n",
      "my first number is:  987\n",
      "my first number is:  1597\n",
      "my first number is:  2584\n",
      "oh it is Even\n",
      "now the sum is:  3382\n",
      "my first number is:  4181\n",
      "my first number is:  6765\n",
      "my first number is:  10946\n",
      "oh it is Even\n",
      "now the sum is:  14328\n",
      "my first number is:  17711\n",
      "my first number is:  28657\n",
      "my first number is:  46368\n",
      "oh it is Even\n",
      "now the sum is:  60696\n",
      "my first number is:  75025\n",
      "my first number is:  121393\n",
      "my first number is:  196418\n",
      "oh it is Even\n",
      "now the sum is:  257114\n",
      "my first number is:  317811\n",
      "my first number is:  514229\n",
      "my first number is:  832040\n",
      "oh it is Even\n",
      "now the sum is:  1089154\n",
      "my first number is:  1346269\n",
      "my first number is:  2178309\n",
      "my first number is:  3524578\n",
      "oh it is Even\n",
      "now the sum is:  4613732\n",
      "4613732\n"
     ]
    }
   ],
   "source": [
    "first = 1\n",
    "second = 2\n",
    "\n",
    "sum = 0\n",
    "\n",
    "while (first < 4000000):\n",
    "    print ( 'my first number is: ', first)\n",
    "    if isEven(first):\n",
    "        print ('oh it is Even')\n",
    "        sum = sum + first\n",
    "        print ('now the sum is: ', sum)\n",
    "    new = first + second\n",
    "    first = second\n",
    "    second = new\n",
    "    #print (first)\n",
    "\n",
    "print(sum)"
   ]
  },
  {
   "cell_type": "code",
   "execution_count": null,
   "id": "49229560",
   "metadata": {},
   "outputs": [],
   "source": []
  }
 ],
 "metadata": {
  "kernelspec": {
   "display_name": "Python 3 (ipykernel)",
   "language": "python",
   "name": "python3"
  },
  "language_info": {
   "codemirror_mode": {
    "name": "ipython",
    "version": 3
   },
   "file_extension": ".py",
   "mimetype": "text/x-python",
   "name": "python",
   "nbconvert_exporter": "python",
   "pygments_lexer": "ipython3",
   "version": "3.10.7"
  }
 },
 "nbformat": 4,
 "nbformat_minor": 5
}
