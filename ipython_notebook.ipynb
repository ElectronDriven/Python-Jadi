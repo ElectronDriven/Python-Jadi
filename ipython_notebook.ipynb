{
 "cells": [
  {
   "cell_type": "markdown",
   "id": "c0c417b8",
   "metadata": {},
   "source": [
    "##Calculating my age\n",
    "this program calculates my age"
   ]
  },
  {
   "cell_type": "code",
   "execution_count": 4,
   "id": "ad75558b",
   "metadata": {},
   "outputs": [
    {
     "name": "stdout",
     "output_type": "stream",
     "text": [
      "41\n"
     ]
    }
   ],
   "source": [
    "my_age=41\n",
    "print(my_age)\n"
   ]
  },
  {
   "cell_type": "code",
   "execution_count": 5,
   "id": "1add812e",
   "metadata": {},
   "outputs": [],
   "source": [
    "my_age = my_age + 1"
   ]
  },
  {
   "cell_type": "code",
   "execution_count": 6,
   "id": "e2151d90",
   "metadata": {},
   "outputs": [
    {
     "data": {
      "text/plain": [
       "42"
      ]
     },
     "execution_count": 6,
     "metadata": {},
     "output_type": "execute_result"
    }
   ],
   "source": [
    "my_age"
   ]
  }
 ],
 "metadata": {
  "kernelspec": {
   "display_name": "Python 3",
   "language": "python",
   "name": "python3"
  },
  "language_info": {
   "codemirror_mode": {
    "name": "ipython",
    "version": 3
   },
   "file_extension": ".py",
   "mimetype": "text/x-python",
   "name": "python",
   "nbconvert_exporter": "python",
   "pygments_lexer": "ipython3",
   "version": "3.11.1 (tags/v3.11.1:a7a450f, Dec  6 2022, 19:58:39) [MSC v.1934 64 bit (AMD64)]"
  },
  "vscode": {
   "interpreter": {
    "hash": "52634da84371cba311ea128a5ea7cdc41ff074b781779e754b270ff9f8153cee"
   }
  }
 },
 "nbformat": 4,
 "nbformat_minor": 5
}
